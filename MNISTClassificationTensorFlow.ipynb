{
 "cells": [
  {
   "cell_type": "markdown",
   "id": "88130f34",
   "metadata": {
    "papermill": {
     "duration": 0.00765,
     "end_time": "2023-03-01T16:27:55.465458",
     "exception": false,
     "start_time": "2023-03-01T16:27:55.457808",
     "status": "completed"
    },
    "tags": []
   },
   "source": [
    "# **Let's use TensorFlow to Solve a common Classification problem with the MNIST DataSet a.k.a \"The Hello World! of Machine Learning\".**"
   ]
  },
  {
   "cell_type": "markdown",
   "id": "f79cd000",
   "metadata": {
    "papermill": {
     "duration": 0.005544,
     "end_time": "2023-03-01T16:27:55.477170",
     "exception": false,
     "start_time": "2023-03-01T16:27:55.471626",
     "status": "completed"
    },
    "tags": []
   },
   "source": [
    "> The MNIST DataSet is an already Pre-Processed DataSet that contains handwritten digits (from 1 to 10) as 28x28 Pixels Matrices, where each pixel represent the density of the color Black, from 0 - Completely Dark to 255 - Completely White.\n",
    "> We'll teach the Machine, through Supervised Learning, how to correctly classify the handwritten digits, or in other terms, to understand which number it's in front of, based on the color (Black) density of each of the 784 Pixels."
   ]
  },
  {
   "cell_type": "markdown",
   "id": "3fb8ab61",
   "metadata": {
    "papermill": {
     "duration": 0.005651,
     "end_time": "2023-03-01T16:27:55.488846",
     "exception": false,
     "start_time": "2023-03-01T16:27:55.483195",
     "status": "completed"
    },
    "tags": []
   },
   "source": [
    "* **Importing the Required Libraries.**"
   ]
  },
  {
   "cell_type": "code",
   "execution_count": 1,
   "id": "6ce6d7b6",
   "metadata": {
    "_cell_guid": "b1076dfc-b9ad-4769-8c92-a6c4dae69d19",
    "_uuid": "8f2839f25d086af736a60e9eeb907d3b93b6e0e5",
    "execution": {
     "iopub.execute_input": "2023-03-01T16:27:55.505018Z",
     "iopub.status.busy": "2023-03-01T16:27:55.503508Z",
     "iopub.status.idle": "2023-03-01T16:28:04.214363Z",
     "shell.execute_reply": "2023-03-01T16:28:04.213267Z"
    },
    "papermill": {
     "duration": 8.722049,
     "end_time": "2023-03-01T16:28:04.217166",
     "exception": false,
     "start_time": "2023-03-01T16:27:55.495117",
     "status": "completed"
    },
    "tags": []
   },
   "outputs": [],
   "source": [
    "import numpy as np\n",
    "import tensorflow as tf\n",
    "\n",
    "import tensorflow_datasets as tfds"
   ]
  },
  {
   "cell_type": "markdown",
   "id": "00e2ea43",
   "metadata": {
    "papermill": {
     "duration": 0.005512,
     "end_time": "2023-03-01T16:28:04.228719",
     "exception": false,
     "start_time": "2023-03-01T16:28:04.223207",
     "status": "completed"
    },
    "tags": []
   },
   "source": [
    "* **Importing the DataSet**"
   ]
  },
  {
   "cell_type": "code",
   "execution_count": 2,
   "id": "9f326c3d",
   "metadata": {
    "execution": {
     "iopub.execute_input": "2023-03-01T16:28:04.242189Z",
     "iopub.status.busy": "2023-03-01T16:28:04.241556Z",
     "iopub.status.idle": "2023-03-01T16:28:09.196845Z",
     "shell.execute_reply": "2023-03-01T16:28:09.195905Z"
    },
    "papermill": {
     "duration": 4.964772,
     "end_time": "2023-03-01T16:28:09.199238",
     "exception": false,
     "start_time": "2023-03-01T16:28:04.234466",
     "status": "completed"
    },
    "tags": []
   },
   "outputs": [
    {
     "name": "stdout",
     "output_type": "stream",
     "text": [
      "\u001b[1mDownloading and preparing dataset 11.06 MiB (download: 11.06 MiB, generated: 21.00 MiB, total: 32.06 MiB) to /root/tensorflow_datasets/mnist/3.0.1...\u001b[0m\n"
     ]
    },
    {
     "data": {
      "application/vnd.jupyter.widget-view+json": {
       "model_id": "052a8b391ddd4bb093fcfedc31764c29",
       "version_major": 2,
       "version_minor": 0
      },
      "text/plain": [
       "Dl Completed...:   0%|          | 0/5 [00:00<?, ? file/s]"
      ]
     },
     "metadata": {},
     "output_type": "display_data"
    },
    {
     "name": "stdout",
     "output_type": "stream",
     "text": [
      "\u001b[1mDataset mnist downloaded and prepared to /root/tensorflow_datasets/mnist/3.0.1. Subsequent calls will reuse this data.\u001b[0m\n"
     ]
    }
   ],
   "source": [
    "MnistData, MnistInfo = tfds.load(name = \"mnist\", with_info = True, as_supervised = True)"
   ]
  },
  {
   "cell_type": "code",
   "execution_count": 3,
   "id": "057a8bab",
   "metadata": {
    "execution": {
     "iopub.execute_input": "2023-03-01T16:28:09.214750Z",
     "iopub.status.busy": "2023-03-01T16:28:09.212910Z",
     "iopub.status.idle": "2023-03-01T16:28:09.218769Z",
     "shell.execute_reply": "2023-03-01T16:28:09.217782Z"
    },
    "papermill": {
     "duration": 0.015661,
     "end_time": "2023-03-01T16:28:09.221168",
     "exception": false,
     "start_time": "2023-03-01T16:28:09.205507",
     "status": "completed"
    },
    "tags": []
   },
   "outputs": [],
   "source": [
    "MnistTrain, MnistTest = MnistData[\"train\"], MnistData[\"test\"]"
   ]
  },
  {
   "cell_type": "code",
   "execution_count": 4,
   "id": "4156c3a4",
   "metadata": {
    "execution": {
     "iopub.execute_input": "2023-03-01T16:28:09.235031Z",
     "iopub.status.busy": "2023-03-01T16:28:09.234672Z",
     "iopub.status.idle": "2023-03-01T16:28:09.245958Z",
     "shell.execute_reply": "2023-03-01T16:28:09.244850Z"
    },
    "papermill": {
     "duration": 0.02092,
     "end_time": "2023-03-01T16:28:09.248216",
     "exception": false,
     "start_time": "2023-03-01T16:28:09.227296",
     "status": "completed"
    },
    "tags": []
   },
   "outputs": [],
   "source": [
    "#Calculating the Validation Size\n",
    "ValidationSamples = tf.cast(0.1*MnistInfo.splits[\"train\"].num_examples, tf.int64)\n",
    "\n",
    "#Storing the Test Size into a Variable\n",
    "TestSamples = tf.cast(MnistInfo.splits[\"test\"].num_examples, tf.int64)"
   ]
  },
  {
   "cell_type": "markdown",
   "id": "1083a321",
   "metadata": {
    "papermill": {
     "duration": 0.005837,
     "end_time": "2023-03-01T16:28:09.260584",
     "exception": false,
     "start_time": "2023-03-01T16:28:09.254747",
     "status": "completed"
    },
    "tags": []
   },
   "source": [
    "* **Let's now Define a Function to Scale the Data in a Numerical Stable way (from 0 to 1).**"
   ]
  },
  {
   "cell_type": "code",
   "execution_count": 5,
   "id": "03d64451",
   "metadata": {
    "execution": {
     "iopub.execute_input": "2023-03-01T16:28:09.275029Z",
     "iopub.status.busy": "2023-03-01T16:28:09.274076Z",
     "iopub.status.idle": "2023-03-01T16:28:09.280012Z",
     "shell.execute_reply": "2023-03-01T16:28:09.278952Z"
    },
    "papermill": {
     "duration": 0.015602,
     "end_time": "2023-03-01T16:28:09.282352",
     "exception": false,
     "start_time": "2023-03-01T16:28:09.266750",
     "status": "completed"
    },
    "tags": []
   },
   "outputs": [],
   "source": [
    "def ScaleData(Image, Label):\n",
    "    #Casting the Image into Float Type\n",
    "    Image = tf.cast(Image, tf.float32)\n",
    "    \n",
    "    #Scaling the Image and keeping it as a Float (the . after the Division keeps it float)\n",
    "    Image /= 255.\n",
    "    \n",
    "    return Image, Label"
   ]
  },
  {
   "cell_type": "markdown",
   "id": "99a82517",
   "metadata": {
    "papermill": {
     "duration": 0.005818,
     "end_time": "2023-03-01T16:28:09.294481",
     "exception": false,
     "start_time": "2023-03-01T16:28:09.288663",
     "status": "completed"
    },
    "tags": []
   },
   "source": [
    "* **Scaling Training (and Validation) Data as well as the Test Data**"
   ]
  },
  {
   "cell_type": "code",
   "execution_count": 6,
   "id": "ae1f5465",
   "metadata": {
    "execution": {
     "iopub.execute_input": "2023-03-01T16:28:09.308574Z",
     "iopub.status.busy": "2023-03-01T16:28:09.308182Z",
     "iopub.status.idle": "2023-03-01T16:28:09.367474Z",
     "shell.execute_reply": "2023-03-01T16:28:09.366514Z"
    },
    "papermill": {
     "duration": 0.069516,
     "end_time": "2023-03-01T16:28:09.370097",
     "exception": false,
     "start_time": "2023-03-01T16:28:09.300581",
     "status": "completed"
    },
    "tags": []
   },
   "outputs": [],
   "source": [
    "ScaledTrain = MnistTrain.map(ScaleData)\n",
    "ScaledTest = MnistTest.map(ScaleData)"
   ]
  },
  {
   "cell_type": "markdown",
   "id": "3b759200",
   "metadata": {
    "papermill": {
     "duration": 0.005858,
     "end_time": "2023-03-01T16:28:09.382336",
     "exception": false,
     "start_time": "2023-03-01T16:28:09.376478",
     "status": "completed"
    },
    "tags": []
   },
   "source": [
    "* **Let's now Shuffle the Data and Split the Train DataSet into Train and Validation Data**"
   ]
  },
  {
   "cell_type": "code",
   "execution_count": 7,
   "id": "d8509fc2",
   "metadata": {
    "execution": {
     "iopub.execute_input": "2023-03-01T16:28:09.396498Z",
     "iopub.status.busy": "2023-03-01T16:28:09.396113Z",
     "iopub.status.idle": "2023-03-01T16:28:09.402365Z",
     "shell.execute_reply": "2023-03-01T16:28:09.401610Z"
    },
    "papermill": {
     "duration": 0.015797,
     "end_time": "2023-03-01T16:28:09.404366",
     "exception": false,
     "start_time": "2023-03-01T16:28:09.388569",
     "status": "completed"
    },
    "tags": []
   },
   "outputs": [],
   "source": [
    "#Initializing the Buffer, which is going to be used to set the Sample Size that is going to be Shuffled Each Time, since with enormous DataSet we won't be able to Shuffle them all at once.\n",
    "#NOTE: \n",
    "#ShuffleSize = BufferSize = Buffer\n",
    "#ShuffleSize = 1 -> No Shuffling actually happening.\n",
    "#ShuffleSize >= TotalSampleSize -> Shuffling will take place at Once and Uiformly.\n",
    "#1 < ShuffleSize < TotalSampleSize -> Shuffling will in Different Batches and will Optimize the Computational Power of the Machine.\n",
    "\n",
    "Buffer = 10000\n",
    "\n",
    "ShuffledTrain = ScaledTrain.shuffle(Buffer)\n",
    "\n",
    "#Kinda Pointless to Shuffle the Test Set, but Whatever...\n",
    "ShuffledTest = ScaledTest.shuffle(Buffer)"
   ]
  },
  {
   "cell_type": "code",
   "execution_count": 8,
   "id": "e1601a20",
   "metadata": {
    "execution": {
     "iopub.execute_input": "2023-03-01T16:28:09.418922Z",
     "iopub.status.busy": "2023-03-01T16:28:09.418266Z",
     "iopub.status.idle": "2023-03-01T16:28:09.423632Z",
     "shell.execute_reply": "2023-03-01T16:28:09.422850Z"
    },
    "papermill": {
     "duration": 0.015046,
     "end_time": "2023-03-01T16:28:09.425826",
     "exception": false,
     "start_time": "2023-03-01T16:28:09.410780",
     "status": "completed"
    },
    "tags": []
   },
   "outputs": [],
   "source": [
    "#Extracting the Validation DataSet and Re-Creating the Train Data without the Validation Data Points.\n",
    "\n",
    "ShuffledValidation = ShuffledTrain.take(ValidationSamples)\n",
    "ShuffledTrainOnly = ShuffledTrain.skip(ValidationSamples)"
   ]
  },
  {
   "cell_type": "markdown",
   "id": "6779f265",
   "metadata": {
    "papermill": {
     "duration": 0.006054,
     "end_time": "2023-03-01T16:28:09.438194",
     "exception": false,
     "start_time": "2023-03-01T16:28:09.432140",
     "status": "completed"
    },
    "tags": []
   },
   "source": [
    "* **Batching the DataSet for the Mini-Batch Stochasting Gradient Descent**"
   ]
  },
  {
   "cell_type": "code",
   "execution_count": 9,
   "id": "d6be9cfa",
   "metadata": {
    "execution": {
     "iopub.execute_input": "2023-03-01T16:28:09.452679Z",
     "iopub.status.busy": "2023-03-01T16:28:09.452037Z",
     "iopub.status.idle": "2023-03-01T16:28:09.459049Z",
     "shell.execute_reply": "2023-03-01T16:28:09.458290Z"
    },
    "papermill": {
     "duration": 0.016748,
     "end_time": "2023-03-01T16:28:09.461091",
     "exception": false,
     "start_time": "2023-03-01T16:28:09.444343",
     "status": "completed"
    },
    "tags": []
   },
   "outputs": [],
   "source": [
    "#NOTE:\n",
    "#BatchSize = 1 -> Stochastic Gradient Descent\n",
    "#BatchSize = TotalSampleSize -> (SingleBatch) Gradient Descent\n",
    "# 1 < BatchSize < TotalSampleSize -> MiniBatch Gradient Descent\n",
    "\n",
    "BatchSize = 100\n",
    "\n",
    "#Batching\n",
    "BatchedTrain = ShuffledTrainOnly.batch(BatchSize)\n",
    "\n",
    "#Since we'll only Forward-Propagate on the Validation and Test Sets, we want them to not be Batched or BatchSize = TotalSamples.\n",
    "#So, Since the Model will want the Validation Set in also Batch Format, we need to Batch it with its TotalSampleSize as BatchSize.\n",
    "BatchedValidation = ShuffledValidation.batch(ValidationSamples)\n",
    "\n",
    "#The Same Applies for the Test Data:\n",
    "BatchedTest = ShuffledTest.batch(TestSamples)"
   ]
  },
  {
   "cell_type": "code",
   "execution_count": 10,
   "id": "b5a3db20",
   "metadata": {
    "execution": {
     "iopub.execute_input": "2023-03-01T16:28:09.475193Z",
     "iopub.status.busy": "2023-03-01T16:28:09.474640Z",
     "iopub.status.idle": "2023-03-01T16:28:10.791870Z",
     "shell.execute_reply": "2023-03-01T16:28:10.790637Z"
    },
    "papermill": {
     "duration": 1.32757,
     "end_time": "2023-03-01T16:28:10.794847",
     "exception": false,
     "start_time": "2023-03-01T16:28:09.467277",
     "status": "completed"
    },
    "tags": []
   },
   "outputs": [],
   "source": [
    "#The Validation Data must have the same Shape and Properties as the Train and Test Data.\n",
    "#The Mnist Data is an Iterable and in 2-Tuples Format since we set as_supervised = True.\n",
    "#Therefore we must Extract and Convert the Inputs and Targets Accordingly.\n",
    "\n",
    "ValidationInputs, ValidationTargets = next(iter(BatchedValidation))\n",
    "\n",
    "#iter is used to make the Validation Data an Iterator, and next is used to load the next batch into the Iterable.\n",
    "#Since there's only one Batch, it'll Load the Inputs and Targets."
   ]
  },
  {
   "cell_type": "markdown",
   "id": "e7ff2431",
   "metadata": {
    "papermill": {
     "duration": 0.006079,
     "end_time": "2023-03-01T16:28:10.807400",
     "exception": false,
     "start_time": "2023-03-01T16:28:10.801321",
     "status": "completed"
    },
    "tags": []
   },
   "source": [
    "* **Outlining the Model.**"
   ]
  },
  {
   "cell_type": "code",
   "execution_count": 11,
   "id": "13c8bfc9",
   "metadata": {
    "execution": {
     "iopub.execute_input": "2023-03-01T16:28:10.822252Z",
     "iopub.status.busy": "2023-03-01T16:28:10.821547Z",
     "iopub.status.idle": "2023-03-01T16:28:10.898357Z",
     "shell.execute_reply": "2023-03-01T16:28:10.897500Z"
    },
    "papermill": {
     "duration": 0.086887,
     "end_time": "2023-03-01T16:28:10.900870",
     "exception": false,
     "start_time": "2023-03-01T16:28:10.813983",
     "status": "completed"
    },
    "tags": []
   },
   "outputs": [],
   "source": [
    "InputSize = 784 #One Input Neuron for each Pixel.\n",
    "OutputSize = 10 #Ten, since they are our Number of Different Ouputs (Numbers from 1 to 10).\n",
    "HiddenLayersSize = 50 #Size of the Hidden Layers, we will have 2 and assume they'll have same Size.\n",
    "\n",
    "#Defining the Model.\n",
    "Model = tf.keras.Sequential([\n",
    "                            #This will Flatten into a Vector our Input Tensor of Size (28, 28, 1).\n",
    "                            tf.keras.layers.Flatten(input_shape = (28, 28, 1)),\n",
    "                            #Dense Takes the Inputs and Calculates the Dot Product of the Inputs and Weights and adds the Bias.\n",
    "                            #This is where we can apply the Activation Function.\n",
    "                            #The Process is done Twice since we will have 2 Hidden Layers of the same Size with the same Activation Function.\n",
    "                            tf.keras.layers.Dense(HiddenLayersSize, activation = \"relu\"),\n",
    "                            tf.keras.layers.Dense(HiddenLayersSize, activation = \"relu\"),\n",
    "                            #Defining the Output Layer that will use SoftMax Activation Function and will have size 10.\n",
    "                            #SoftMax is used to turn Values into Probabilities.\n",
    "                            tf.keras.layers.Dense(OutputSize, activation = \"softmax\"),\n",
    "                            ])\n",
    "\n",
    "#Setting the Optimizer and the Loss Function.\n",
    "#We'll use the SparseCategoricalCrossEntropy Loss Function, since it applies One Hot Encoding to our Outputs.\n",
    "Model.compile(optimizer = \"adam\", loss = \"sparse_categorical_crossentropy\", metrics = [\"accuracy\"])"
   ]
  },
  {
   "cell_type": "markdown",
   "id": "72f9f15a",
   "metadata": {
    "papermill": {
     "duration": 0.005946,
     "end_time": "2023-03-01T16:28:10.913141",
     "exception": false,
     "start_time": "2023-03-01T16:28:10.907195",
     "status": "completed"
    },
    "tags": []
   },
   "source": [
    "* **Training the Model.**"
   ]
  },
  {
   "cell_type": "code",
   "execution_count": 12,
   "id": "9771b975",
   "metadata": {
    "execution": {
     "iopub.execute_input": "2023-03-01T16:28:10.927664Z",
     "iopub.status.busy": "2023-03-01T16:28:10.926535Z",
     "iopub.status.idle": "2023-03-01T16:28:31.317264Z",
     "shell.execute_reply": "2023-03-01T16:28:31.316011Z"
    },
    "papermill": {
     "duration": 20.400379,
     "end_time": "2023-03-01T16:28:31.319632",
     "exception": false,
     "start_time": "2023-03-01T16:28:10.919253",
     "status": "completed"
    },
    "tags": []
   },
   "outputs": [
    {
     "name": "stdout",
     "output_type": "stream",
     "text": [
      "Epoch 1/5\n",
      "540/540 - 5s - loss: 0.4132 - accuracy: 0.8832 - val_loss: 0.2112 - val_accuracy: 0.9393 - 5s/epoch - 10ms/step\n",
      "Epoch 2/5\n",
      "540/540 - 3s - loss: 0.1882 - accuracy: 0.9456 - val_loss: 0.1586 - val_accuracy: 0.9535 - 3s/epoch - 6ms/step\n",
      "Epoch 3/5\n",
      "540/540 - 3s - loss: 0.1453 - accuracy: 0.9571 - val_loss: 0.1283 - val_accuracy: 0.9620 - 3s/epoch - 6ms/step\n",
      "Epoch 4/5\n",
      "540/540 - 3s - loss: 0.1179 - accuracy: 0.9645 - val_loss: 0.1155 - val_accuracy: 0.9647 - 3s/epoch - 6ms/step\n",
      "Epoch 5/5\n",
      "540/540 - 3s - loss: 0.0991 - accuracy: 0.9699 - val_loss: 0.0920 - val_accuracy: 0.9728 - 3s/epoch - 6ms/step\n"
     ]
    },
    {
     "data": {
      "text/plain": [
       "<keras.callbacks.History at 0x7fb161522d10>"
      ]
     },
     "execution_count": 12,
     "metadata": {},
     "output_type": "execute_result"
    }
   ],
   "source": [
    "#Setting the Number of Epochs.\n",
    "Epochs = 5\n",
    "\n",
    "#Training the Model.\n",
    "Model.fit(BatchedTrain, epochs = Epochs, validation_data = (ValidationInputs, ValidationTargets), verbose = 2)\n",
    "\n",
    "#1) At the Beginning of Each Epoch, the Training Loss will be set to 0.\n",
    "#2) The Algorithm will iterate over the preset number of Batches from TrainData.\n",
    "#3) The Weights and Biases will be Updated as many times as there are Batches.\n",
    "#4) We will get a Value for the Loss Function, Indicating how the Training is going.\n",
    "#5) We will also see the Training Accuracy thanks to the Verbose.\n",
    "#6) At the End of each Epoch the Algorithm will Forward Propagate the whole Validation Set.\n",
    "#7) When we'll reach the Maximum number of Epochs the Training will be Over."
   ]
  },
  {
   "cell_type": "markdown",
   "id": "f207ff02",
   "metadata": {
    "papermill": {
     "duration": 0.006523,
     "end_time": "2023-03-01T16:28:31.333311",
     "exception": false,
     "start_time": "2023-03-01T16:28:31.326788",
     "status": "completed"
    },
    "tags": []
   },
   "source": [
    "You can pay Around the the Hidden Layers' Sizes and look at the Training Results to see if you can Maximize Accuracy.\n",
    "\n",
    "You can also, by doing this, trying to force OverFitting and try to spot it by looking at the Training Results (When both Training and Validation Losses are Decreasing, but all of the Sudden the Validation Loss starts Increasing).\n",
    "\n",
    "You can, in Short:\n",
    "- Play around with the Width of the Algorithm (Layer Size) in any way you want.\n",
    "- Play around with the Depth of the Algorithm (Number of Layers) in any way you want.\n",
    "- Try out different Activation Functions for each Hidden Layer.\n",
    "- Tweak the Batch Size from 1 to 10000.\n",
    "- Adjust the Learning Rate from as low as 0.0001."
   ]
  },
  {
   "cell_type": "markdown",
   "id": "b4b8006d",
   "metadata": {
    "papermill": {
     "duration": 0.006488,
     "end_time": "2023-03-01T16:28:31.346638",
     "exception": false,
     "start_time": "2023-03-01T16:28:31.340150",
     "status": "completed"
    },
    "tags": []
   },
   "source": [
    "* **Testing the Model.**"
   ]
  },
  {
   "cell_type": "code",
   "execution_count": 13,
   "id": "1a884cda",
   "metadata": {
    "execution": {
     "iopub.execute_input": "2023-03-01T16:28:31.361811Z",
     "iopub.status.busy": "2023-03-01T16:28:31.361409Z",
     "iopub.status.idle": "2023-03-01T16:28:32.107276Z",
     "shell.execute_reply": "2023-03-01T16:28:32.105785Z"
    },
    "papermill": {
     "duration": 0.75683,
     "end_time": "2023-03-01T16:28:32.110201",
     "exception": false,
     "start_time": "2023-03-01T16:28:31.353371",
     "status": "completed"
    },
    "tags": []
   },
   "outputs": [
    {
     "name": "stdout",
     "output_type": "stream",
     "text": [
      "1/1 [==============================] - 1s 732ms/step - loss: 0.1088 - accuracy: 0.9673\n"
     ]
    }
   ],
   "source": [
    "#We'll Test our Model with the Test Data with the Evaluate Method, which will return the Loss and Metrics for the Model in \"Test Mode\".\n",
    "TestLoss, TestAccuracy = Model.evaluate(BatchedTest)"
   ]
  },
  {
   "cell_type": "code",
   "execution_count": 14,
   "id": "521c2482",
   "metadata": {
    "execution": {
     "iopub.execute_input": "2023-03-01T16:28:32.126450Z",
     "iopub.status.busy": "2023-03-01T16:28:32.126024Z",
     "iopub.status.idle": "2023-03-01T16:28:32.131767Z",
     "shell.execute_reply": "2023-03-01T16:28:32.130509Z"
    },
    "papermill": {
     "duration": 0.016957,
     "end_time": "2023-03-01T16:28:32.134474",
     "exception": false,
     "start_time": "2023-03-01T16:28:32.117517",
     "status": "completed"
    },
    "tags": []
   },
   "outputs": [
    {
     "name": "stdout",
     "output_type": "stream",
     "text": [
      "Test Loss: 0.10880593210458755 \n",
      "TestAccuracy: 96.72999978065491%\n"
     ]
    }
   ],
   "source": [
    "#Accuracy and Loss we are Expecting for Real World Scenarios.\n",
    "print(f\"Test Loss: {TestLoss} \\nTestAccuracy: {TestAccuracy*100}%\")"
   ]
  }
 ],
 "metadata": {
  "kernelspec": {
   "display_name": "Python 3",
   "language": "python",
   "name": "python3"
  },
  "language_info": {
   "codemirror_mode": {
    "name": "ipython",
    "version": 3
   },
   "file_extension": ".py",
   "mimetype": "text/x-python",
   "name": "python",
   "nbconvert_exporter": "python",
   "pygments_lexer": "ipython3",
   "version": "3.7.12"
  },
  "papermill": {
   "default_parameters": {},
   "duration": 49.558575,
   "end_time": "2023-03-01T16:28:35.662091",
   "environment_variables": {},
   "exception": null,
   "input_path": "__notebook__.ipynb",
   "output_path": "__notebook__.ipynb",
   "parameters": {},
   "start_time": "2023-03-01T16:27:46.103516",
   "version": "2.3.4"
  },
  "widgets": {
   "application/vnd.jupyter.widget-state+json": {
    "state": {
     "052a8b391ddd4bb093fcfedc31764c29": {
      "model_module": "@jupyter-widgets/controls",
      "model_module_version": "1.5.0",
      "model_name": "HBoxModel",
      "state": {
       "_dom_classes": [],
       "_model_module": "@jupyter-widgets/controls",
       "_model_module_version": "1.5.0",
       "_model_name": "HBoxModel",
       "_view_count": null,
       "_view_module": "@jupyter-widgets/controls",
       "_view_module_version": "1.5.0",
       "_view_name": "HBoxView",
       "box_style": "",
       "children": [
        "IPY_MODEL_fdc67ee32464474dbf80fdcd82e2c10f",
        "IPY_MODEL_95118a8bc38d4df9a1244feec0402094",
        "IPY_MODEL_23c9e4e7052f4fc791cfbf6a22f662b4"
       ],
       "layout": "IPY_MODEL_1d7c7c44e4d24a4e812608542967fabf"
      }
     },
     "0a6456299301460495d77e23bdb307e3": {
      "model_module": "@jupyter-widgets/controls",
      "model_module_version": "1.5.0",
      "model_name": "ProgressStyleModel",
      "state": {
       "_model_module": "@jupyter-widgets/controls",
       "_model_module_version": "1.5.0",
       "_model_name": "ProgressStyleModel",
       "_view_count": null,
       "_view_module": "@jupyter-widgets/base",
       "_view_module_version": "1.2.0",
       "_view_name": "StyleView",
       "bar_color": null,
       "description_width": ""
      }
     },
     "1d7c7c44e4d24a4e812608542967fabf": {
      "model_module": "@jupyter-widgets/base",
      "model_module_version": "1.2.0",
      "model_name": "LayoutModel",
      "state": {
       "_model_module": "@jupyter-widgets/base",
       "_model_module_version": "1.2.0",
       "_model_name": "LayoutModel",
       "_view_count": null,
       "_view_module": "@jupyter-widgets/base",
       "_view_module_version": "1.2.0",
       "_view_name": "LayoutView",
       "align_content": null,
       "align_items": null,
       "align_self": null,
       "border": null,
       "bottom": null,
       "display": null,
       "flex": null,
       "flex_flow": null,
       "grid_area": null,
       "grid_auto_columns": null,
       "grid_auto_flow": null,
       "grid_auto_rows": null,
       "grid_column": null,
       "grid_gap": null,
       "grid_row": null,
       "grid_template_areas": null,
       "grid_template_columns": null,
       "grid_template_rows": null,
       "height": null,
       "justify_content": null,
       "justify_items": null,
       "left": null,
       "margin": null,
       "max_height": null,
       "max_width": null,
       "min_height": null,
       "min_width": null,
       "object_fit": null,
       "object_position": null,
       "order": null,
       "overflow": null,
       "overflow_x": null,
       "overflow_y": null,
       "padding": null,
       "right": null,
       "top": null,
       "visibility": null,
       "width": null
      }
     },
     "225c4642457e480abe263a9293a3c9d0": {
      "model_module": "@jupyter-widgets/base",
      "model_module_version": "1.2.0",
      "model_name": "LayoutModel",
      "state": {
       "_model_module": "@jupyter-widgets/base",
       "_model_module_version": "1.2.0",
       "_model_name": "LayoutModel",
       "_view_count": null,
       "_view_module": "@jupyter-widgets/base",
       "_view_module_version": "1.2.0",
       "_view_name": "LayoutView",
       "align_content": null,
       "align_items": null,
       "align_self": null,
       "border": null,
       "bottom": null,
       "display": null,
       "flex": null,
       "flex_flow": null,
       "grid_area": null,
       "grid_auto_columns": null,
       "grid_auto_flow": null,
       "grid_auto_rows": null,
       "grid_column": null,
       "grid_gap": null,
       "grid_row": null,
       "grid_template_areas": null,
       "grid_template_columns": null,
       "grid_template_rows": null,
       "height": null,
       "justify_content": null,
       "justify_items": null,
       "left": null,
       "margin": null,
       "max_height": null,
       "max_width": null,
       "min_height": null,
       "min_width": null,
       "object_fit": null,
       "object_position": null,
       "order": null,
       "overflow": null,
       "overflow_x": null,
       "overflow_y": null,
       "padding": null,
       "right": null,
       "top": null,
       "visibility": null,
       "width": null
      }
     },
     "22f5843a43564c8aa9be9036144cae1f": {
      "model_module": "@jupyter-widgets/base",
      "model_module_version": "1.2.0",
      "model_name": "LayoutModel",
      "state": {
       "_model_module": "@jupyter-widgets/base",
       "_model_module_version": "1.2.0",
       "_model_name": "LayoutModel",
       "_view_count": null,
       "_view_module": "@jupyter-widgets/base",
       "_view_module_version": "1.2.0",
       "_view_name": "LayoutView",
       "align_content": null,
       "align_items": null,
       "align_self": null,
       "border": null,
       "bottom": null,
       "display": null,
       "flex": null,
       "flex_flow": null,
       "grid_area": null,
       "grid_auto_columns": null,
       "grid_auto_flow": null,
       "grid_auto_rows": null,
       "grid_column": null,
       "grid_gap": null,
       "grid_row": null,
       "grid_template_areas": null,
       "grid_template_columns": null,
       "grid_template_rows": null,
       "height": null,
       "justify_content": null,
       "justify_items": null,
       "left": null,
       "margin": null,
       "max_height": null,
       "max_width": null,
       "min_height": null,
       "min_width": null,
       "object_fit": null,
       "object_position": null,
       "order": null,
       "overflow": null,
       "overflow_x": null,
       "overflow_y": null,
       "padding": null,
       "right": null,
       "top": null,
       "visibility": null,
       "width": null
      }
     },
     "23c9e4e7052f4fc791cfbf6a22f662b4": {
      "model_module": "@jupyter-widgets/controls",
      "model_module_version": "1.5.0",
      "model_name": "HTMLModel",
      "state": {
       "_dom_classes": [],
       "_model_module": "@jupyter-widgets/controls",
       "_model_module_version": "1.5.0",
       "_model_name": "HTMLModel",
       "_view_count": null,
       "_view_module": "@jupyter-widgets/controls",
       "_view_module_version": "1.5.0",
       "_view_name": "HTMLView",
       "description": "",
       "description_tooltip": null,
       "layout": "IPY_MODEL_225c4642457e480abe263a9293a3c9d0",
       "placeholder": "​",
       "style": "IPY_MODEL_31276d42075543dd80881ba103922d6e",
       "value": " 5/5 [00:01&lt;00:00,  2.89 file/s]"
      }
     },
     "305d4bb66fdd4f039bee81d033a95dde": {
      "model_module": "@jupyter-widgets/base",
      "model_module_version": "1.2.0",
      "model_name": "LayoutModel",
      "state": {
       "_model_module": "@jupyter-widgets/base",
       "_model_module_version": "1.2.0",
       "_model_name": "LayoutModel",
       "_view_count": null,
       "_view_module": "@jupyter-widgets/base",
       "_view_module_version": "1.2.0",
       "_view_name": "LayoutView",
       "align_content": null,
       "align_items": null,
       "align_self": null,
       "border": null,
       "bottom": null,
       "display": null,
       "flex": null,
       "flex_flow": null,
       "grid_area": null,
       "grid_auto_columns": null,
       "grid_auto_flow": null,
       "grid_auto_rows": null,
       "grid_column": null,
       "grid_gap": null,
       "grid_row": null,
       "grid_template_areas": null,
       "grid_template_columns": null,
       "grid_template_rows": null,
       "height": null,
       "justify_content": null,
       "justify_items": null,
       "left": null,
       "margin": null,
       "max_height": null,
       "max_width": null,
       "min_height": null,
       "min_width": null,
       "object_fit": null,
       "object_position": null,
       "order": null,
       "overflow": null,
       "overflow_x": null,
       "overflow_y": null,
       "padding": null,
       "right": null,
       "top": null,
       "visibility": null,
       "width": null
      }
     },
     "31276d42075543dd80881ba103922d6e": {
      "model_module": "@jupyter-widgets/controls",
      "model_module_version": "1.5.0",
      "model_name": "DescriptionStyleModel",
      "state": {
       "_model_module": "@jupyter-widgets/controls",
       "_model_module_version": "1.5.0",
       "_model_name": "DescriptionStyleModel",
       "_view_count": null,
       "_view_module": "@jupyter-widgets/base",
       "_view_module_version": "1.2.0",
       "_view_name": "StyleView",
       "description_width": ""
      }
     },
     "6aeb2989366f4bbba50ac8e408ea8b1c": {
      "model_module": "@jupyter-widgets/controls",
      "model_module_version": "1.5.0",
      "model_name": "DescriptionStyleModel",
      "state": {
       "_model_module": "@jupyter-widgets/controls",
       "_model_module_version": "1.5.0",
       "_model_name": "DescriptionStyleModel",
       "_view_count": null,
       "_view_module": "@jupyter-widgets/base",
       "_view_module_version": "1.2.0",
       "_view_name": "StyleView",
       "description_width": ""
      }
     },
     "95118a8bc38d4df9a1244feec0402094": {
      "model_module": "@jupyter-widgets/controls",
      "model_module_version": "1.5.0",
      "model_name": "FloatProgressModel",
      "state": {
       "_dom_classes": [],
       "_model_module": "@jupyter-widgets/controls",
       "_model_module_version": "1.5.0",
       "_model_name": "FloatProgressModel",
       "_view_count": null,
       "_view_module": "@jupyter-widgets/controls",
       "_view_module_version": "1.5.0",
       "_view_name": "ProgressView",
       "bar_style": "success",
       "description": "",
       "description_tooltip": null,
       "layout": "IPY_MODEL_22f5843a43564c8aa9be9036144cae1f",
       "max": 5.0,
       "min": 0.0,
       "orientation": "horizontal",
       "style": "IPY_MODEL_0a6456299301460495d77e23bdb307e3",
       "value": 5.0
      }
     },
     "fdc67ee32464474dbf80fdcd82e2c10f": {
      "model_module": "@jupyter-widgets/controls",
      "model_module_version": "1.5.0",
      "model_name": "HTMLModel",
      "state": {
       "_dom_classes": [],
       "_model_module": "@jupyter-widgets/controls",
       "_model_module_version": "1.5.0",
       "_model_name": "HTMLModel",
       "_view_count": null,
       "_view_module": "@jupyter-widgets/controls",
       "_view_module_version": "1.5.0",
       "_view_name": "HTMLView",
       "description": "",
       "description_tooltip": null,
       "layout": "IPY_MODEL_305d4bb66fdd4f039bee81d033a95dde",
       "placeholder": "​",
       "style": "IPY_MODEL_6aeb2989366f4bbba50ac8e408ea8b1c",
       "value": "Dl Completed...: 100%"
      }
     }
    },
    "version_major": 2,
    "version_minor": 0
   }
  }
 },
 "nbformat": 4,
 "nbformat_minor": 5
}
